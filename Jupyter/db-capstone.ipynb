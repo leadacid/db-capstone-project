{
 "cells": [
  {
   "cell_type": "code",
   "execution_count": 1,
   "id": "535a5253",
   "metadata": {},
   "outputs": [],
   "source": [
    "import mysql.connector as connector"
   ]
  },
  {
   "cell_type": "code",
   "execution_count": 2,
   "id": "5de8e829",
   "metadata": {},
   "outputs": [],
   "source": [
    "connection = connector.connect(user = \"guido\", password = \"123456\", db=\"little-lemon\")"
   ]
  },
  {
   "cell_type": "code",
   "execution_count": 3,
   "id": "086bab83",
   "metadata": {},
   "outputs": [],
   "source": [
    "cursor = connection.cursor()\n",
    "show_tables_query = \"SHOW tables\" \n",
    "cursor.execute(show_tables_query)"
   ]
  },
  {
   "cell_type": "code",
   "execution_count": 4,
   "id": "6d9369a8",
   "metadata": {},
   "outputs": [],
   "source": [
    "results = cursor.fetchall()"
   ]
  },
  {
   "cell_type": "code",
   "execution_count": 5,
   "id": "875ea23f",
   "metadata": {},
   "outputs": [
    {
     "name": "stdout",
     "output_type": "stream",
     "text": [
      "('Bookings',)\n",
      "('Customers',)\n",
      "('MenuItems',)\n",
      "('Menus',)\n",
      "('Orders',)\n",
      "('ordersview',)\n",
      "('Staff',)\n"
     ]
    }
   ],
   "source": [
    "for table in results:\n",
    "    print(table)"
   ]
  },
  {
   "cell_type": "code",
   "execution_count": 6,
   "id": "f32ab18a",
   "metadata": {},
   "outputs": [],
   "source": [
    "final_query = \"\"\"SELECT Customers.FullName, Customers.ContactNumber, Customers.Email, Orders.TotalCost\n",
    "FROM Orders INNER JOIN Customers\n",
    "ON Orders.CustomerID = Customers.CustomerID\n",
    "WHERE Orders.TotalCost > 60;\"\"\"\n",
    "cursor.execute(final_query)"
   ]
  },
  {
   "cell_type": "code",
   "execution_count": 7,
   "id": "4e31664d",
   "metadata": {},
   "outputs": [],
   "source": [
    "results = cursor.fetchall()"
   ]
  },
  {
   "cell_type": "code",
   "execution_count": 8,
   "id": "b2cad0bc",
   "metadata": {},
   "outputs": [
    {
     "name": "stdout",
     "output_type": "stream",
     "text": [
      "('You', '123-456-7890', 'test@test.com', Decimal('150'))\n",
      "('Me', '098-765-1234', 'hello@hello.com', Decimal('400'))\n"
     ]
    }
   ],
   "source": [
    "for result in results:\n",
    "    print(result)"
   ]
  },
  {
   "cell_type": "code",
   "execution_count": null,
   "id": "039440a5",
   "metadata": {},
   "outputs": [],
   "source": []
  }
 ],
 "metadata": {
  "kernelspec": {
   "display_name": "Python 3 (ipykernel)",
   "language": "python",
   "name": "python3"
  },
  "language_info": {
   "codemirror_mode": {
    "name": "ipython",
    "version": 3
   },
   "file_extension": ".py",
   "mimetype": "text/x-python",
   "name": "python",
   "nbconvert_exporter": "python",
   "pygments_lexer": "ipython3",
   "version": "3.10.11"
  }
 },
 "nbformat": 4,
 "nbformat_minor": 5
}
